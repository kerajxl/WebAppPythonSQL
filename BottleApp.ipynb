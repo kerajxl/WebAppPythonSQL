{
 "cells": [
  {
   "cell_type": "code",
   "execution_count": 1,
   "id": "44d3dc73",
   "metadata": {},
   "outputs": [
    {
     "name": "stderr",
     "output_type": "stream",
     "text": [
      "Bottle v0.12.18 server starting up (using WSGIRefServer())...\n",
      "Listening on http://localhost:8080/\n",
      "Hit Ctrl-C to quit.\n",
      "\n",
      "127.0.0.1 - - [21/Dec/2021 23:14:46] \"GET / HTTP/1.1\" 404 720\n",
      "127.0.0.1 - - [21/Dec/2021 23:14:47] \"GET /favicon.ico HTTP/1.1\" 404 742\n",
      "127.0.0.1 - - [21/Dec/2021 23:14:51] \"GET /index HTTP/1.1\" 200 14\n"
     ]
    }
   ],
   "source": [
    "from bottle import route, run\n",
    "\n",
    "@route('/index')\n",
    "def hello():\n",
    "    return '<h1>Hello</h1>'\n",
    "\n",
    "run(host = 'localhost', port = 8080, debug = True)"
   ]
  }
 ],
 "metadata": {
  "kernelspec": {
   "display_name": "Python 3 (ipykernel)",
   "language": "python",
   "name": "python3"
  },
  "language_info": {
   "codemirror_mode": {
    "name": "ipython",
    "version": 3
   },
   "file_extension": ".py",
   "mimetype": "text/x-python",
   "name": "python",
   "nbconvert_exporter": "python",
   "pygments_lexer": "ipython3",
   "version": "3.9.7"
  }
 },
 "nbformat": 4,
 "nbformat_minor": 5
}
