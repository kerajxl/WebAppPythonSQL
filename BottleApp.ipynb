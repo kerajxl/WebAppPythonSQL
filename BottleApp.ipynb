{
 "cells": [
  {
   "cell_type": "code",
   "execution_count": 1,
   "id": "44d3dc73",
   "metadata": {},
   "outputs": [
    {
     "name": "stdout",
     "output_type": "stream",
     "text": [
      "48819.75913664301\n"
     ]
    },
    {
     "name": "stderr",
     "output_type": "stream",
     "text": [
      "Bottle v0.12.19 server starting up (using WSGIRefServer())...\n",
      "Listening on http://localhost:8080/\n",
      "Hit Ctrl-C to quit.\n",
      "\n",
      "C:\\Users\\leski\\anaconda3\\lib\\site-packages\\bottle.py:3139: ResourceWarning: unclosed <socket.socket fd=1348, family=AddressFamily.AF_INET, type=SocketKind.SOCK_STREAM, proto=0, laddr=('127.0.0.1', 8080)>\n",
      "  pass\n",
      "ResourceWarning: Enable tracemalloc to get the object allocation traceback\n"
     ]
    }
   ],
   "source": [
    "from bottle import Bottle, route, run\n",
    "from requests import Request, Session\n",
    "from requests.exceptions import ConnectionError, Timeout, TooManyRedirects\n",
    "import json\n",
    "import pprint\n",
    "\n",
    "\n",
    "url = 'https://pro-api.coinmarketcap.com/v1/cryptocurrency/quotes/latest'\n",
    "parameters = {\n",
    "  'slug':'bitcoin',\n",
    "  'convert':'PLN'\n",
    "}\n",
    "headers = {\n",
    "  'Accepts': 'application/json',\n",
    "  'X-CMC_PRO_API_KEY': '0338f88c-4dc5-4997-b9dd-a7dd973e4a0d',\n",
    "}\n",
    "\n",
    "session = Session()\n",
    "session.headers.update(headers)\n",
    "\n",
    "try:\n",
    "  response = session.get(url, params=parameters)\n",
    "  pprint.pprint(json.loads(response.text)['data']['1']['quote']['USD']['price'])\n",
    "except (ConnectionError, Timeout, TooManyRedirects) as e:\n",
    "  print(e)\n",
    "\n",
    "app = Bottle()\n",
    "\n",
    "@app.route('/index')\n",
    "def hello():\n",
    "    return '<h1>Hello</h1>'\n",
    "\n",
    "run(app, host = 'localhost', port = 8080, debug = True)"
   ]
  },
  {
   "cell_type": "code",
   "execution_count": 45,
   "id": "653b0bd4",
   "metadata": {},
   "outputs": [
    {
     "name": "stderr",
     "output_type": "stream",
     "text": [
      "<ipython-input-45-c12c99e9d58b>:23: ResourceWarning: unclosed <ssl.SSLSocket fd=400, family=AddressFamily.AF_INET, type=SocketKind.SOCK_STREAM, proto=0, laddr=('192.168.8.132', 59636), raddr=('104.17.141.178', 443)>\n",
      "  response = session.get(url, params=parameters)\n",
      "ResourceWarning: Enable tracemalloc to get the object allocation traceback\n"
     ]
    },
    {
     "name": "stdout",
     "output_type": "stream",
     "text": [
      "Update time: 2021-12-22T19:36:02.000Z\n",
      "          Crypto         Price    volume 24h    Market Cap\n",
      "0        Bitcoin  48806.116088  2.454316e+10  9.228263e+11\n",
      "1       Ethereum   3988.321817  1.418698e+10  4.740007e+11\n",
      "2   Binance Coin    538.378190  1.544596e+09  8.980210e+10\n",
      "3         Tether      1.000456  5.777829e+10  7.625437e+10\n",
      "4         Solana    180.494575  1.884445e+09  5.567722e+10\n",
      "..           ...           ...           ...           ...\n",
      "95   OMG Network      6.631274  3.322394e+08  9.300056e+08\n",
      "96          BORA      1.064338  1.315970e+08  9.166611e+08\n",
      "97     Ravencoin      0.087859  3.210815e+07  9.100392e+08\n",
      "98        Revain      0.010251  2.000627e+06  8.720078e+08\n",
      "99          Ankr      0.106035  5.860936e+07  8.655504e+08\n",
      "\n",
      "[100 rows x 4 columns]\n"
     ]
    }
   ],
   "source": [
    "#commit Jarek 22.12\n",
    "#Poprawilem api, trzeba po innym linku sie laczyc aby seryjnie zaciagac \n",
    "\n",
    "from requests import Request, Session\n",
    "from requests.exceptions import ConnectionError, Timeout, TooManyRedirects\n",
    "import json\n",
    "import pprint\n",
    "\n",
    "import pandas as pd\n",
    "\n",
    "url = 'https://pro-api.coinmarketcap.com/v1/cryptocurrency/listings/latest'\n",
    "\n",
    "currency = 'USD'\n",
    "\n",
    "parameters = {\n",
    "  'convert': currency\n",
    "}\n",
    "headers = {\n",
    "  'Accepts': 'application/json',\n",
    "  'X-CMC_PRO_API_KEY': '25bdeaa9-d947-4b43-83b5-f2ee7bb97197',\n",
    "}\n",
    "\n",
    "session = Session()\n",
    "session.headers.update(headers)\n",
    "coins_names = []\n",
    "coins_prices = []\n",
    "coins_volume_24h = []\n",
    "coins_market_cap = []\n",
    "\n",
    "try:\n",
    "    response = session.get(url, params=parameters)\n",
    "    \n",
    "except (ConnectionError, Timeout, TooManyRedirects) as e:\n",
    "    print(e)\n",
    "    \n",
    "for coins in range(100):\n",
    "    coins_names.append((json.loads(response.text)['data'][coins]['name']))\n",
    "    coins_prices.append((json.loads(response.text)['data'][coins]['quote'][currency]['price']))\n",
    "    coins_volume_24h.append((json.loads(response.text)['data'][coins]['quote'][currency]['volume_24h']))\n",
    "    coins_market_cap.append((json.loads(response.text)['data'][coins]['quote'][currency]['market_cap']))\n",
    "                          \n",
    "rtime = json.loads(response.text)['data'][1][\"last_updated\"]\n",
    "data = list(zip(coins_names,coins_prices, coins_volume_24h, coins_market_cap))\n",
    "dataframe = pd.DataFrame(data, columns = ['Crypto', 'Price', 'volume 24h', 'Market Cap'])\n",
    "\n",
    "print(\"Update time:\", rtime)\n",
    "print(dataframe)\n",
    "\n"
   ]
  },
  {
   "cell_type": "code",
   "execution_count": 39,
   "id": "08e6e548",
   "metadata": {},
   "outputs": [
    {
     "data": {
      "text/plain": [
       "list"
      ]
     },
     "execution_count": 39,
     "metadata": {},
     "output_type": "execute_result"
    }
   ],
   "source": [
    "type(coins_names)"
   ]
  }
 ],
 "metadata": {
  "kernelspec": {
   "display_name": "Python 3",
   "language": "python",
   "name": "python3"
  },
  "language_info": {
   "codemirror_mode": {
    "name": "ipython",
    "version": 3
   },
   "file_extension": ".py",
   "mimetype": "text/x-python",
   "name": "python",
   "nbconvert_exporter": "python",
   "pygments_lexer": "ipython3",
   "version": "3.8.8"
  }
 },
 "nbformat": 4,
 "nbformat_minor": 5
}
