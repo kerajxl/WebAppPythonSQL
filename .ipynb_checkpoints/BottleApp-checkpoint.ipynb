{
 "cells": [
  {
   "cell_type": "code",
   "execution_count": 5,
   "id": "44d3dc73",
   "metadata": {},
   "outputs": [
    {
     "name": "stderr",
     "output_type": "stream",
     "text": [
      "C:\\Users\\robso\\AppData\\Local\\Temp/ipykernel_9900/868366702.py:21: ResourceWarning: unclosed <ssl.SSLSocket fd=1564, family=AddressFamily.AF_INET, type=SocketKind.SOCK_STREAM, proto=0, laddr=('192.168.0.9', 63487), raddr=('104.17.138.178', 443)>\n",
      "  response = session.get(url, params=parameters)\n",
      "ResourceWarning: Enable tracemalloc to get the object allocation traceback\n",
      "Bottle v0.12.18 server starting up (using WSGIRefServer())...\n",
      "Listening on http://localhost:8080/\n",
      "Hit Ctrl-C to quit.\n",
      "\n"
     ]
    },
    {
     "name": "stdout",
     "output_type": "stream",
     "text": [
      "48975.704129811325\n"
     ]
    },
    {
     "name": "stderr",
     "output_type": "stream",
     "text": [
      "C:\\Users\\robso\\anaconda3\\envs\\BottleProject\\lib\\site-packages\\bottle.py:3139: ResourceWarning: unclosed <socket.socket fd=1552, family=AddressFamily.AF_INET, type=SocketKind.SOCK_STREAM, proto=0, laddr=('127.0.0.1', 8080)>\n",
      "  pass\n",
      "ResourceWarning: Enable tracemalloc to get the object allocation traceback\n"
     ]
    }
   ],
   "source": [
    "from bottle import Bottle, route, run\n",
    "from requests import Request, Session\n",
    "from requests.exceptions import ConnectionError, Timeout, TooManyRedirects\n",
    "import json\n",
    "import pprint\n",
    "\n",
    "url = 'https://pro-api.coinmarketcap.com/v1/cryptocurrency/quotes/latest'\n",
    "parameters = {\n",
    "  'slug':'bitcoin',\n",
    "  'convert':'USD'\n",
    "}\n",
    "headers = {\n",
    "  'Accepts': 'application/json',\n",
    "  'X-CMC_PRO_API_KEY': '0338f88c-4dc5-4997-b9dd-a7dd973e4a0d',\n",
    "}\n",
    "\n",
    "session = Session()\n",
    "session.headers.update(headers)\n",
    "\n",
    "try:\n",
    "  response = session.get(url, params=parameters)\n",
    "  pprint.pprint(json.loads(response.text)['data']['1']['quote']['USD']['price'])\n",
    "except (ConnectionError, Timeout, TooManyRedirects) as e:\n",
    "  print(e)\n",
    "\n",
    "app = Bottle()\n",
    "\n",
    "@app.route('/index')\n",
    "def hello():\n",
    "    return '<h1>Hello</h1>'\n",
    "\n",
    "run(app, host = 'localhost', port = 8080, debug = True)"
   ]
  },
  {
   "cell_type": "code",
   "execution_count": null,
   "id": "f5b4f113",
   "metadata": {},
   "outputs": [],
   "source": []
  }
 ],
 "metadata": {
  "kernelspec": {
   "display_name": "Python 3 (ipykernel)",
   "language": "python",
   "name": "python3"
  },
  "language_info": {
   "codemirror_mode": {
    "name": "ipython",
    "version": 3
   },
   "file_extension": ".py",
   "mimetype": "text/x-python",
   "name": "python",
   "nbconvert_exporter": "python",
   "pygments_lexer": "ipython3",
   "version": "3.9.7"
  }
 },
 "nbformat": 4,
 "nbformat_minor": 5
}
